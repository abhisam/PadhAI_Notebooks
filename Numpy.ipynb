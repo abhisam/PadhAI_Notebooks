{
  "nbformat": 4,
  "nbformat_minor": 0,
  "metadata": {
    "colab": {
      "name": "Numpy.ipynb",
      "version": "0.3.2",
      "provenance": [],
      "include_colab_link": true
    },
    "kernelspec": {
      "name": "python3",
      "display_name": "Python 3"
    }
  },
  "cells": [
    {
      "cell_type": "markdown",
      "metadata": {
        "id": "view-in-github",
        "colab_type": "text"
      },
      "source": [
        "<a href=\"https://colab.research.google.com/github/abhisam/PadhAI_Notebooks/blob/master/Numpy.ipynb\" target=\"_parent\"><img src=\"https://colab.research.google.com/assets/colab-badge.svg\" alt=\"Open In Colab\"/></a>"
      ]
    },
    {
      "metadata": {
        "id": "t9ZuyqxqFynd",
        "colab_type": "text"
      },
      "cell_type": "markdown",
      "source": [
        "# NumPy\n"
      ]
    },
    {
      "metadata": {
        "id": "6nRWrgddFx9Q",
        "colab_type": "code",
        "colab": {}
      },
      "cell_type": "code",
      "source": [
        "import numpy as np"
      ],
      "execution_count": 0,
      "outputs": []
    },
    {
      "metadata": {
        "id": "KwcS539NF9W7",
        "colab_type": "code",
        "colab": {}
      },
      "cell_type": "code",
      "source": [
        "# Creating numpy array\n",
        "x = np.array([1,2,3])"
      ],
      "execution_count": 0,
      "outputs": []
    },
    {
      "metadata": {
        "id": "joSoVrQqGGen",
        "colab_type": "code",
        "colab": {
          "base_uri": "https://localhost:8080/",
          "height": 34
        },
        "outputId": "0d365538-79d5-47b3-960d-e35ef85bdf57"
      },
      "cell_type": "code",
      "source": [
        "print(x)"
      ],
      "execution_count": 3,
      "outputs": [
        {
          "output_type": "stream",
          "text": [
            "[1 2 3]\n"
          ],
          "name": "stdout"
        }
      ]
    },
    {
      "metadata": {
        "id": "Kjn8yloJGJx-",
        "colab_type": "code",
        "colab": {
          "base_uri": "https://localhost:8080/",
          "height": 34
        },
        "outputId": "936f608c-62f7-452f-8944-7366f793b76a"
      },
      "cell_type": "code",
      "source": [
        "type(x)"
      ],
      "execution_count": 4,
      "outputs": [
        {
          "output_type": "execute_result",
          "data": {
            "text/plain": [
              "numpy.ndarray"
            ]
          },
          "metadata": {
            "tags": []
          },
          "execution_count": 4
        }
      ]
    },
    {
      "metadata": {
        "id": "4PQhCTCLGNMk",
        "colab_type": "code",
        "colab": {}
      },
      "cell_type": "code",
      "source": [
        "# Creating array from list\n",
        "\n",
        "l = [1,2,3,4]\n",
        "\n",
        "x = np.asarray(l)"
      ],
      "execution_count": 0,
      "outputs": []
    },
    {
      "metadata": {
        "id": "Gxk4iw53GWj-",
        "colab_type": "code",
        "colab": {
          "base_uri": "https://localhost:8080/",
          "height": 51
        },
        "outputId": "ad38cb58-40d9-4568-e2dc-b02339081d73"
      },
      "cell_type": "code",
      "source": [
        "print(x)\n",
        "\n",
        "type(x)\n"
      ],
      "execution_count": 6,
      "outputs": [
        {
          "output_type": "stream",
          "text": [
            "[1 2 3 4]\n"
          ],
          "name": "stdout"
        },
        {
          "output_type": "execute_result",
          "data": {
            "text/plain": [
              "numpy.ndarray"
            ]
          },
          "metadata": {
            "tags": []
          },
          "execution_count": 6
        }
      ]
    },
    {
      "metadata": {
        "id": "ruIE-xWcGkBs",
        "colab_type": "code",
        "colab": {}
      },
      "cell_type": "code",
      "source": [
        "x = np.asarray(l,float)"
      ],
      "execution_count": 0,
      "outputs": []
    },
    {
      "metadata": {
        "id": "2G7UlKe4J5OA",
        "colab_type": "code",
        "colab": {
          "base_uri": "https://localhost:8080/",
          "height": 51
        },
        "outputId": "e2bcacf5-bbb6-46f8-cdf9-c0f3ca153a3d"
      },
      "cell_type": "code",
      "source": [
        "print(x)\n",
        "\n",
        "print(type(x))"
      ],
      "execution_count": 8,
      "outputs": [
        {
          "output_type": "stream",
          "text": [
            "[1. 2. 3. 4.]\n",
            "<class 'numpy.ndarray'>\n"
          ],
          "name": "stdout"
        }
      ]
    },
    {
      "metadata": {
        "id": "cS8UuDthJ8fL",
        "colab_type": "code",
        "colab": {
          "base_uri": "https://localhost:8080/",
          "height": 34
        },
        "outputId": "08e2c148-db05-42a3-a2c3-1e8277db9326"
      },
      "cell_type": "code",
      "source": [
        "x.shape # prints columns "
      ],
      "execution_count": 9,
      "outputs": [
        {
          "output_type": "execute_result",
          "data": {
            "text/plain": [
              "(4,)"
            ]
          },
          "metadata": {
            "tags": []
          },
          "execution_count": 9
        }
      ]
    },
    {
      "metadata": {
        "id": "j9P5NJeRKOig",
        "colab_type": "code",
        "colab": {}
      },
      "cell_type": "code",
      "source": [
        "# Creating two dimentional array\n",
        "\n",
        "a = np.array([[1,2,3],[4,5,6]])\n"
      ],
      "execution_count": 0,
      "outputs": []
    },
    {
      "metadata": {
        "id": "ANZJSP9hKkfT",
        "colab_type": "code",
        "colab": {
          "base_uri": "https://localhost:8080/",
          "height": 51
        },
        "outputId": "98d3d738-1e49-4572-bc4e-f3a8ffc06b71"
      },
      "cell_type": "code",
      "source": [
        "a"
      ],
      "execution_count": 11,
      "outputs": [
        {
          "output_type": "execute_result",
          "data": {
            "text/plain": [
              "array([[1, 2, 3],\n",
              "       [4, 5, 6]])"
            ]
          },
          "metadata": {
            "tags": []
          },
          "execution_count": 11
        }
      ]
    },
    {
      "metadata": {
        "id": "ci-DmvcEMcyX",
        "colab_type": "code",
        "colab": {
          "base_uri": "https://localhost:8080/",
          "height": 34
        },
        "outputId": "8156a6b7-8174-422d-e2c1-c25c19b48584"
      },
      "cell_type": "code",
      "source": [
        "a[0] # prinitng first dimension"
      ],
      "execution_count": 12,
      "outputs": [
        {
          "output_type": "execute_result",
          "data": {
            "text/plain": [
              "array([1, 2, 3])"
            ]
          },
          "metadata": {
            "tags": []
          },
          "execution_count": 12
        }
      ]
    },
    {
      "metadata": {
        "id": "i3WcUASFMfMb",
        "colab_type": "code",
        "colab": {
          "base_uri": "https://localhost:8080/",
          "height": 34
        },
        "outputId": "eadf9b9b-720a-4d6c-8c4f-d51086fa4597"
      },
      "cell_type": "code",
      "source": [
        "a[1] # second dimension"
      ],
      "execution_count": 13,
      "outputs": [
        {
          "output_type": "execute_result",
          "data": {
            "text/plain": [
              "array([4, 5, 6])"
            ]
          },
          "metadata": {
            "tags": []
          },
          "execution_count": 13
        }
      ]
    },
    {
      "metadata": {
        "id": "ru67XgLTMloc",
        "colab_type": "code",
        "colab": {
          "base_uri": "https://localhost:8080/",
          "height": 34
        },
        "outputId": "632a06d3-fff7-4ebd-f985-0b54edfe9379"
      },
      "cell_type": "code",
      "source": [
        "a[0,0]"
      ],
      "execution_count": 14,
      "outputs": [
        {
          "output_type": "execute_result",
          "data": {
            "text/plain": [
              "1"
            ]
          },
          "metadata": {
            "tags": []
          },
          "execution_count": 14
        }
      ]
    },
    {
      "metadata": {
        "id": "w3wgpbxSMok2",
        "colab_type": "code",
        "colab": {
          "base_uri": "https://localhost:8080/",
          "height": 34
        },
        "outputId": "0cb0fa97-460c-4a72-bf6e-1b8d228c7478"
      },
      "cell_type": "code",
      "source": [
        "a[0,1]"
      ],
      "execution_count": 15,
      "outputs": [
        {
          "output_type": "execute_result",
          "data": {
            "text/plain": [
              "2"
            ]
          },
          "metadata": {
            "tags": []
          },
          "execution_count": 15
        }
      ]
    },
    {
      "metadata": {
        "id": "FRvrHFrLMwjE",
        "colab_type": "code",
        "colab": {
          "base_uri": "https://localhost:8080/",
          "height": 34
        },
        "outputId": "50b8aa25-1fe0-4177-ed7d-ae8c80d806ab"
      },
      "cell_type": "code",
      "source": [
        "a[0,0:2]"
      ],
      "execution_count": 16,
      "outputs": [
        {
          "output_type": "execute_result",
          "data": {
            "text/plain": [
              "array([1, 2])"
            ]
          },
          "metadata": {
            "tags": []
          },
          "execution_count": 16
        }
      ]
    },
    {
      "metadata": {
        "id": "UxEveRrcN8Ne",
        "colab_type": "code",
        "colab": {
          "base_uri": "https://localhost:8080/",
          "height": 34
        },
        "outputId": "3ab53111-db84-4241-b273-687554fa9709"
      },
      "cell_type": "code",
      "source": [
        "a[1,0:2]"
      ],
      "execution_count": 17,
      "outputs": [
        {
          "output_type": "execute_result",
          "data": {
            "text/plain": [
              "array([4, 5])"
            ]
          },
          "metadata": {
            "tags": []
          },
          "execution_count": 17
        }
      ]
    },
    {
      "metadata": {
        "id": "g20eS5EnOF9I",
        "colab_type": "code",
        "colab": {
          "base_uri": "https://localhost:8080/",
          "height": 51
        },
        "outputId": "7ea9516b-6089-4230-801d-249e9c275a19"
      },
      "cell_type": "code",
      "source": [
        " # sub array\n",
        "  \n",
        "  a[0:2,0:2]"
      ],
      "execution_count": 18,
      "outputs": [
        {
          "output_type": "execute_result",
          "data": {
            "text/plain": [
              "array([[1, 2],\n",
              "       [4, 5]])"
            ]
          },
          "metadata": {
            "tags": []
          },
          "execution_count": 18
        }
      ]
    },
    {
      "metadata": {
        "id": "w6Kij-EVQhB-",
        "colab_type": "code",
        "colab": {
          "base_uri": "https://localhost:8080/",
          "height": 85
        },
        "outputId": "2f488f0f-e62d-47e2-9857-efc376ed7d8e"
      },
      "cell_type": "code",
      "source": [
        "# zeros arrays\n",
        "\n",
        "np.zeros((4,5))"
      ],
      "execution_count": 19,
      "outputs": [
        {
          "output_type": "execute_result",
          "data": {
            "text/plain": [
              "array([[0., 0., 0., 0., 0.],\n",
              "       [0., 0., 0., 0., 0.],\n",
              "       [0., 0., 0., 0., 0.],\n",
              "       [0., 0., 0., 0., 0.]])"
            ]
          },
          "metadata": {
            "tags": []
          },
          "execution_count": 19
        }
      ]
    },
    {
      "metadata": {
        "id": "O58Tfc47Q0xy",
        "colab_type": "code",
        "colab": {
          "base_uri": "https://localhost:8080/",
          "height": 85
        },
        "outputId": "79750220-b335-4c5f-a808-68c2611e626f"
      },
      "cell_type": "code",
      "source": [
        "# identity matrix\n",
        "\n",
        "np.eye(4,4)"
      ],
      "execution_count": 20,
      "outputs": [
        {
          "output_type": "execute_result",
          "data": {
            "text/plain": [
              "array([[1., 0., 0., 0.],\n",
              "       [0., 1., 0., 0.],\n",
              "       [0., 0., 1., 0.],\n",
              "       [0., 0., 0., 1.]])"
            ]
          },
          "metadata": {
            "tags": []
          },
          "execution_count": 20
        }
      ]
    },
    {
      "metadata": {
        "id": "c4WQfE4zRGQy",
        "colab_type": "code",
        "colab": {}
      },
      "cell_type": "code",
      "source": [
        "# normal distributed random values between zero and one\n",
        "\n",
        "x = np.random.random((4,5))"
      ],
      "execution_count": 0,
      "outputs": []
    },
    {
      "metadata": {
        "id": "9441KxhCRrtb",
        "colab_type": "code",
        "colab": {
          "base_uri": "https://localhost:8080/",
          "height": 85
        },
        "outputId": "2cbd9393-c30c-4f2a-b5ed-20ccb7bce8bb"
      },
      "cell_type": "code",
      "source": [
        "print(x)"
      ],
      "execution_count": 22,
      "outputs": [
        {
          "output_type": "stream",
          "text": [
            "[[0.3474321  0.55340535 0.12314722 0.51713876 0.45539885]\n",
            " [0.98202823 0.09257939 0.7001296  0.68028618 0.08915293]\n",
            " [0.22916754 0.70014636 0.44096407 0.17046712 0.58041678]\n",
            " [0.57938614 0.22062518 0.60942239 0.36309911 0.8700904 ]]\n"
          ],
          "name": "stdout"
        }
      ]
    },
    {
      "metadata": {
        "id": "Y7rAKgL0Sqzj",
        "colab_type": "code",
        "colab": {}
      },
      "cell_type": "code",
      "source": [
        "# transpose of a matrix\n",
        "\n",
        "z = x.T"
      ],
      "execution_count": 0,
      "outputs": []
    },
    {
      "metadata": {
        "id": "xkcx2WxtSx-E",
        "colab_type": "code",
        "colab": {
          "base_uri": "https://localhost:8080/",
          "height": 102
        },
        "outputId": "a5f9e13d-008b-4524-f065-8313bab3528b"
      },
      "cell_type": "code",
      "source": [
        "print(z)"
      ],
      "execution_count": 24,
      "outputs": [
        {
          "output_type": "stream",
          "text": [
            "[[0.3474321  0.98202823 0.22916754 0.57938614]\n",
            " [0.55340535 0.09257939 0.70014636 0.22062518]\n",
            " [0.12314722 0.7001296  0.44096407 0.60942239]\n",
            " [0.51713876 0.68028618 0.17046712 0.36309911]\n",
            " [0.45539885 0.08915293 0.58041678 0.8700904 ]]\n"
          ],
          "name": "stdout"
        }
      ]
    },
    {
      "metadata": {
        "id": "WFXGmW9dS0Xs",
        "colab_type": "code",
        "colab": {
          "base_uri": "https://localhost:8080/",
          "height": 187
        },
        "outputId": "b794a231-8a31-4743-9a50-8b5194c0ffaf"
      },
      "cell_type": "code",
      "source": [
        "# reshaping the array matrix\n",
        "\n",
        "# 20 values are reshaped into  2 X 2 matrix\n",
        "\n",
        "z.reshape(10,2)"
      ],
      "execution_count": 25,
      "outputs": [
        {
          "output_type": "execute_result",
          "data": {
            "text/plain": [
              "array([[0.3474321 , 0.98202823],\n",
              "       [0.22916754, 0.57938614],\n",
              "       [0.55340535, 0.09257939],\n",
              "       [0.70014636, 0.22062518],\n",
              "       [0.12314722, 0.7001296 ],\n",
              "       [0.44096407, 0.60942239],\n",
              "       [0.51713876, 0.68028618],\n",
              "       [0.17046712, 0.36309911],\n",
              "       [0.45539885, 0.08915293],\n",
              "       [0.58041678, 0.8700904 ]])"
            ]
          },
          "metadata": {
            "tags": []
          },
          "execution_count": 25
        }
      ]
    },
    {
      "metadata": {
        "id": "dOFhyXVJbGLm",
        "colab_type": "code",
        "colab": {}
      },
      "cell_type": "code",
      "source": [
        "# rage array matrix\n",
        "\n",
        "x = np.arange(5)\n",
        "\n",
        "y = np.arange(5)"
      ],
      "execution_count": 0,
      "outputs": []
    },
    {
      "metadata": {
        "id": "SrmXYaLObzkt",
        "colab_type": "code",
        "colab": {
          "base_uri": "https://localhost:8080/",
          "height": 34
        },
        "outputId": "9c222ea4-a610-42a8-cd45-8fed5313e0c9"
      },
      "cell_type": "code",
      "source": [
        "print(x)"
      ],
      "execution_count": 27,
      "outputs": [
        {
          "output_type": "stream",
          "text": [
            "[0 1 2 3 4]\n"
          ],
          "name": "stdout"
        }
      ]
    },
    {
      "metadata": {
        "id": "8gGBt8Ajb1cS",
        "colab_type": "code",
        "colab": {
          "base_uri": "https://localhost:8080/",
          "height": 34
        },
        "outputId": "dc8a23be-bd7e-46db-9908-94dfa8aba584"
      },
      "cell_type": "code",
      "source": [
        "print(y)"
      ],
      "execution_count": 28,
      "outputs": [
        {
          "output_type": "stream",
          "text": [
            "[0 1 2 3 4]\n"
          ],
          "name": "stdout"
        }
      ]
    },
    {
      "metadata": {
        "id": "ddqY_nWLcIBw",
        "colab_type": "code",
        "colab": {
          "base_uri": "https://localhost:8080/",
          "height": 102
        },
        "outputId": "9b24cb6e-9187-430d-df90-44364845683b"
      },
      "cell_type": "code",
      "source": [
        "print(\"Additon of X and Y\", x + y )\n",
        "\n",
        "print(\"\\nSubtration of X and Y\", x - y )\n",
        "\n",
        "print(\"\\nmatrix of X and Y\", x * y)"
      ],
      "execution_count": 29,
      "outputs": [
        {
          "output_type": "stream",
          "text": [
            "Additon of X and Y [0 2 4 6 8]\n",
            "\n",
            "Subtration of X and Y [0 0 0 0 0]\n",
            "\n",
            "matrix of X and Y [ 0  1  4  9 16]\n"
          ],
          "name": "stdout"
        }
      ]
    },
    {
      "metadata": {
        "id": "Vcc_53qHcar9",
        "colab_type": "code",
        "colab": {
          "base_uri": "https://localhost:8080/",
          "height": 34
        },
        "outputId": "06a75a73-f72c-4a60-b4fa-68ce022f793d"
      },
      "cell_type": "code",
      "source": [
        " # scalar matrix\n",
        "  \n",
        "  print(x,x+1)"
      ],
      "execution_count": 30,
      "outputs": [
        {
          "output_type": "stream",
          "text": [
            "[0 1 2 3 4] [1 2 3 4 5]\n"
          ],
          "name": "stdout"
        }
      ]
    },
    {
      "metadata": {
        "id": "ab3uuujAphOp",
        "colab_type": "code",
        "colab": {
          "base_uri": "https://localhost:8080/",
          "height": 34
        },
        "outputId": "a456414c-1f5c-4e5e-c434-ed0f76856465"
      },
      "cell_type": "code",
      "source": [
        " np.array([-1.7, -1.5, -0.2, 0.2, 1.5, 1.7, 2.0])"
      ],
      "execution_count": 31,
      "outputs": [
        {
          "output_type": "execute_result",
          "data": {
            "text/plain": [
              "array([-1.7, -1.5, -0.2,  0.2,  1.5,  1.7,  2. ])"
            ]
          },
          "metadata": {
            "tags": []
          },
          "execution_count": 31
        }
      ]
    },
    {
      "metadata": {
        "id": "fQF0K1ibp3UB",
        "colab_type": "code",
        "colab": {}
      },
      "cell_type": "code",
      "source": [
        "a = np.random.random((2,3)) * 10"
      ],
      "execution_count": 0,
      "outputs": []
    },
    {
      "metadata": {
        "id": "2lLAqCahqjEb",
        "colab_type": "code",
        "colab": {
          "base_uri": "https://localhost:8080/",
          "height": 51
        },
        "outputId": "daf15534-c727-41f7-d0b3-4118319ca1bb"
      },
      "cell_type": "code",
      "source": [
        "print(a)"
      ],
      "execution_count": 33,
      "outputs": [
        {
          "output_type": "stream",
          "text": [
            "[[5.73356506 2.49747726 7.15752582]\n",
            " [0.84729444 1.91410355 4.56725892]]\n"
          ],
          "name": "stdout"
        }
      ]
    },
    {
      "metadata": {
        "id": "a5y1xR3Yq27i",
        "colab_type": "code",
        "colab": {
          "base_uri": "https://localhost:8080/",
          "height": 51
        },
        "outputId": "86b02475-96de-4884-de3d-90d0c4899f76"
      },
      "cell_type": "code",
      "source": [
        "np.floor(a)"
      ],
      "execution_count": 34,
      "outputs": [
        {
          "output_type": "execute_result",
          "data": {
            "text/plain": [
              "array([[5., 2., 7.],\n",
              "       [0., 1., 4.]])"
            ]
          },
          "metadata": {
            "tags": []
          },
          "execution_count": 34
        }
      ]
    },
    {
      "metadata": {
        "id": "4QpaW1TWq68Y",
        "colab_type": "code",
        "colab": {
          "base_uri": "https://localhost:8080/",
          "height": 34
        },
        "outputId": "13430d9b-9827-426e-9178-7724f779b3bf"
      },
      "cell_type": "code",
      "source": [
        "# inner product\n",
        "\n",
        "u = [1,2,3]\n",
        "\n",
        "v = [-1,2,4]\n",
        "\n",
        "np.inner(u,v)"
      ],
      "execution_count": 35,
      "outputs": [
        {
          "output_type": "execute_result",
          "data": {
            "text/plain": [
              "15"
            ]
          },
          "metadata": {
            "tags": []
          },
          "execution_count": 35
        }
      ]
    },
    {
      "metadata": {
        "id": "2JjLsekJrWlR",
        "colab_type": "code",
        "colab": {
          "base_uri": "https://localhost:8080/",
          "height": 68
        },
        "outputId": "7a08d01f-ce51-47da-bf32-b8171ab3b993"
      },
      "cell_type": "code",
      "source": [
        "# outer product\n",
        "\n",
        "np.outer(u,v)"
      ],
      "execution_count": 36,
      "outputs": [
        {
          "output_type": "execute_result",
          "data": {
            "text/plain": [
              "array([[-1,  2,  4],\n",
              "       [-2,  4,  8],\n",
              "       [-3,  6, 12]])"
            ]
          },
          "metadata": {
            "tags": []
          },
          "execution_count": 36
        }
      ]
    },
    {
      "metadata": {
        "id": "S-7fRji9rzch",
        "colab_type": "code",
        "colab": {
          "base_uri": "https://localhost:8080/",
          "height": 51
        },
        "outputId": "fe854c4f-ebe0-4787-cf37-f9d398561b31"
      },
      "cell_type": "code",
      "source": [
        "a = np.ones((2,3))\n",
        "a"
      ],
      "execution_count": 37,
      "outputs": [
        {
          "output_type": "execute_result",
          "data": {
            "text/plain": [
              "array([[1., 1., 1.],\n",
              "       [1., 1., 1.]])"
            ]
          },
          "metadata": {
            "tags": []
          },
          "execution_count": 37
        }
      ]
    },
    {
      "metadata": {
        "id": "3COfuSzMsAOz",
        "colab_type": "code",
        "colab": {
          "base_uri": "https://localhost:8080/",
          "height": 68
        },
        "outputId": "bffd0daf-24a1-4aaf-ebe3-903300d7dcf6"
      },
      "cell_type": "code",
      "source": [
        "b = np.ones((3,2))\n",
        "b"
      ],
      "execution_count": 38,
      "outputs": [
        {
          "output_type": "execute_result",
          "data": {
            "text/plain": [
              "array([[1., 1.],\n",
              "       [1., 1.],\n",
              "       [1., 1.]])"
            ]
          },
          "metadata": {
            "tags": []
          },
          "execution_count": 38
        }
      ]
    },
    {
      "metadata": {
        "id": "ANVbhqnAsLMy",
        "colab_type": "code",
        "colab": {
          "base_uri": "https://localhost:8080/",
          "height": 51
        },
        "outputId": "ce3e9ada-4ef0-4538-cd02-ae2aaa0d3c68"
      },
      "cell_type": "code",
      "source": [
        "# dot product\n",
        "np.dot(a,b)"
      ],
      "execution_count": 39,
      "outputs": [
        {
          "output_type": "execute_result",
          "data": {
            "text/plain": [
              "array([[3., 3.],\n",
              "       [3., 3.]])"
            ]
          },
          "metadata": {
            "tags": []
          },
          "execution_count": 39
        }
      ]
    },
    {
      "metadata": {
        "id": "tGYR2stSsRZr",
        "colab_type": "code",
        "colab": {
          "base_uri": "https://localhost:8080/",
          "height": 68
        },
        "outputId": "77efb22e-e687-4d3a-9c5c-4871be48a3c5"
      },
      "cell_type": "code",
      "source": [
        "# dot product of transpose\n",
        "\n",
        "np.dot(a.T,b.T)"
      ],
      "execution_count": 40,
      "outputs": [
        {
          "output_type": "execute_result",
          "data": {
            "text/plain": [
              "array([[2., 2., 2.],\n",
              "       [2., 2., 2.],\n",
              "       [2., 2., 2.]])"
            ]
          },
          "metadata": {
            "tags": []
          },
          "execution_count": 40
        }
      ]
    },
    {
      "metadata": {
        "id": "AmErT2bFsqBt",
        "colab_type": "code",
        "colab": {
          "base_uri": "https://localhost:8080/",
          "height": 34
        },
        "outputId": "4eea2075-86f0-4ca5-e314-b54b224f0017"
      },
      "cell_type": "code",
      "source": [
        "# sum of matrix values\n",
        "\n",
        "a.sum()"
      ],
      "execution_count": 41,
      "outputs": [
        {
          "output_type": "execute_result",
          "data": {
            "text/plain": [
              "6.0"
            ]
          },
          "metadata": {
            "tags": []
          },
          "execution_count": 41
        }
      ]
    },
    {
      "metadata": {
        "id": "dA5gfV00tEWj",
        "colab_type": "code",
        "colab": {
          "base_uri": "https://localhost:8080/",
          "height": 34
        },
        "outputId": "b38370a2-d61f-4b0e-c86f-88b914996d28"
      },
      "cell_type": "code",
      "source": [
        "# max value in marix\n",
        "\n",
        "a.max()"
      ],
      "execution_count": 42,
      "outputs": [
        {
          "output_type": "execute_result",
          "data": {
            "text/plain": [
              "1.0"
            ]
          },
          "metadata": {
            "tags": []
          },
          "execution_count": 42
        }
      ]
    },
    {
      "metadata": {
        "id": "3kV6fY7atZEQ",
        "colab_type": "code",
        "colab": {
          "base_uri": "https://localhost:8080/",
          "height": 34
        },
        "outputId": "af12bf88-783a-4c76-bec5-9f4377030a6e"
      },
      "cell_type": "code",
      "source": [
        "a.sum(axis= 0)"
      ],
      "execution_count": 43,
      "outputs": [
        {
          "output_type": "execute_result",
          "data": {
            "text/plain": [
              "array([2., 2., 2.])"
            ]
          },
          "metadata": {
            "tags": []
          },
          "execution_count": 43
        }
      ]
    },
    {
      "metadata": {
        "id": "rKCDBs5Gtchv",
        "colab_type": "code",
        "colab": {
          "base_uri": "https://localhost:8080/",
          "height": 34
        },
        "outputId": "64e89eee-9b7c-4fa3-93cf-82fe596fc968"
      },
      "cell_type": "code",
      "source": [
        "a.sum(axis= 1)"
      ],
      "execution_count": 44,
      "outputs": [
        {
          "output_type": "execute_result",
          "data": {
            "text/plain": [
              "array([3., 3.])"
            ]
          },
          "metadata": {
            "tags": []
          },
          "execution_count": 44
        }
      ]
    },
    {
      "metadata": {
        "id": "o1KRlrn7tmdx",
        "colab_type": "code",
        "colab": {}
      },
      "cell_type": "code",
      "source": [
        ""
      ],
      "execution_count": 0,
      "outputs": []
    }
  ]
}