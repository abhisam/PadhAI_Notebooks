{
  "nbformat": 4,
  "nbformat_minor": 0,
  "metadata": {
    "colab": {
      "name": "PythonBasics-II.ipynb",
      "version": "0.3.2",
      "provenance": [],
      "include_colab_link": true
    },
    "kernelspec": {
      "name": "python3",
      "display_name": "Python 3"
    }
  },
  "cells": [
    {
      "cell_type": "markdown",
      "metadata": {
        "id": "view-in-github",
        "colab_type": "text"
      },
      "source": [
        "<a href=\"https://colab.research.google.com/github/abhisam/PadhAI_Notebooks/blob/master/PythonBasics_II.ipynb\" target=\"_parent\"><img src=\"https://colab.research.google.com/assets/colab-badge.svg\" alt=\"Open In Colab\"/></a>"
      ]
    },
    {
      "metadata": {
        "id": "ORMTewImemeF",
        "colab_type": "text"
      },
      "cell_type": "markdown",
      "source": [
        "# Tuples,  Dicts, Sets"
      ]
    },
    {
      "metadata": {
        "id": "wRsuS-NMevLJ",
        "colab_type": "code",
        "colab": {}
      },
      "cell_type": "code",
      "source": [
        "# tuple\n",
        "\n",
        "sample_tuple = (1,2,3,4)"
      ],
      "execution_count": 0,
      "outputs": []
    },
    {
      "metadata": {
        "id": "a6SeZddwsH0v",
        "colab_type": "code",
        "colab": {
          "base_uri": "https://localhost:8080/",
          "height": 34
        },
        "outputId": "38dcbb98-8b00-4d46-abb0-ecbe4ae6fffb"
      },
      "cell_type": "code",
      "source": [
        "print(sample_tuple)"
      ],
      "execution_count": 36,
      "outputs": [
        {
          "output_type": "stream",
          "text": [
            "(1, 2, 3, 4)\n"
          ],
          "name": "stdout"
        }
      ]
    },
    {
      "metadata": {
        "id": "wiqEH1pYsJOr",
        "colab_type": "code",
        "colab": {
          "base_uri": "https://localhost:8080/",
          "height": 34
        },
        "outputId": "f4e679c0-aebd-4abf-e961-9fd8470ab29b"
      },
      "cell_type": "code",
      "source": [
        "type(sample_tuple)"
      ],
      "execution_count": 37,
      "outputs": [
        {
          "output_type": "execute_result",
          "data": {
            "text/plain": [
              "tuple"
            ]
          },
          "metadata": {
            "tags": []
          },
          "execution_count": 37
        }
      ]
    },
    {
      "metadata": {
        "id": "4XK6xHJWsKoT",
        "colab_type": "code",
        "colab": {
          "base_uri": "https://localhost:8080/",
          "height": 34
        },
        "outputId": "cbb6be3c-d12c-4a64-c0dd-c923b06e4480"
      },
      "cell_type": "code",
      "source": [
        "sample_tuple[1]"
      ],
      "execution_count": 38,
      "outputs": [
        {
          "output_type": "execute_result",
          "data": {
            "text/plain": [
              "2"
            ]
          },
          "metadata": {
            "tags": []
          },
          "execution_count": 38
        }
      ]
    },
    {
      "metadata": {
        "id": "kBeUgYQGr75N",
        "colab_type": "code",
        "colab": {
          "base_uri": "https://localhost:8080/",
          "height": 34
        },
        "outputId": "fc8b4528-73f0-4995-e659-6cc31da9aee9"
      },
      "cell_type": "code",
      "source": [
        "sample_tuple[-1]"
      ],
      "execution_count": 39,
      "outputs": [
        {
          "output_type": "execute_result",
          "data": {
            "text/plain": [
              "4"
            ]
          },
          "metadata": {
            "tags": []
          },
          "execution_count": 39
        }
      ]
    },
    {
      "metadata": {
        "id": "H0peHsufsyol",
        "colab_type": "code",
        "colab": {
          "base_uri": "https://localhost:8080/",
          "height": 34
        },
        "outputId": "88b8d483-e9e2-459b-fb17-eaf3ba5ce98b"
      },
      "cell_type": "code",
      "source": [
        "sample_tuple[-2:] # last two items"
      ],
      "execution_count": 40,
      "outputs": [
        {
          "output_type": "execute_result",
          "data": {
            "text/plain": [
              "(3, 4)"
            ]
          },
          "metadata": {
            "tags": []
          },
          "execution_count": 40
        }
      ]
    },
    {
      "metadata": {
        "id": "_6KzXbl7ui-5",
        "colab_type": "text"
      },
      "cell_type": "markdown",
      "source": [
        "#### sets"
      ]
    },
    {
      "metadata": {
        "id": "Ok8CA3E7un_b",
        "colab_type": "code",
        "colab": {
          "base_uri": "https://localhost:8080/",
          "height": 34
        },
        "outputId": "aad4630a-b7e9-4aaa-8a4e-470bb5692034"
      },
      "cell_type": "code",
      "source": [
        "# current time\n",
        "import time\n",
        "\n",
        "print(\"current time \" , time.time())\n"
      ],
      "execution_count": 41,
      "outputs": [
        {
          "output_type": "stream",
          "text": [
            "current time  1549422346.5092518\n"
          ],
          "name": "stdout"
        }
      ]
    },
    {
      "metadata": {
        "id": "nJPZhoxvu1ci",
        "colab_type": "code",
        "colab": {
          "base_uri": "https://localhost:8080/",
          "height": 51
        },
        "outputId": "0fc91629-4750-4b6e-b457-5dc2d5f60cec"
      },
      "cell_type": "code",
      "source": [
        "# elapsed time\n",
        "\n",
        "t = time.time()\n",
        "\n",
        "print(\"\")\n",
        "\n",
        "t1 = time.time()\n",
        "\n",
        "print(\"elapsed time\", t1 - t )"
      ],
      "execution_count": 42,
      "outputs": [
        {
          "output_type": "stream",
          "text": [
            "\n",
            "elapsed time 0.001802206039428711\n"
          ],
          "name": "stdout"
        }
      ]
    },
    {
      "metadata": {
        "id": "cMFFqD-zwWQp",
        "colab_type": "code",
        "colab": {}
      },
      "cell_type": "code",
      "source": [
        "# sets contains only unique values\n",
        "\n",
        "sample_set = {1,2,3,4,4,3}"
      ],
      "execution_count": 0,
      "outputs": []
    },
    {
      "metadata": {
        "id": "KKUO3FtpxZhJ",
        "colab_type": "code",
        "colab": {
          "base_uri": "https://localhost:8080/",
          "height": 34
        },
        "outputId": "b0e9f223-d2b7-4799-ce93-3900e30252a7"
      },
      "cell_type": "code",
      "source": [
        "print(sample_set)"
      ],
      "execution_count": 44,
      "outputs": [
        {
          "output_type": "stream",
          "text": [
            "{1, 2, 3, 4}\n"
          ],
          "name": "stdout"
        }
      ]
    },
    {
      "metadata": {
        "id": "oKFnU7Q0w-B8",
        "colab_type": "code",
        "colab": {
          "base_uri": "https://localhost:8080/",
          "height": 34
        },
        "outputId": "f9d23f51-7f66-47b9-ea0d-7d2678471bd2"
      },
      "cell_type": "code",
      "source": [
        "type(sample_set)"
      ],
      "execution_count": 45,
      "outputs": [
        {
          "output_type": "execute_result",
          "data": {
            "text/plain": [
              "set"
            ]
          },
          "metadata": {
            "tags": []
          },
          "execution_count": 45
        }
      ]
    },
    {
      "metadata": {
        "id": "f88P7s4PxNVT",
        "colab_type": "code",
        "colab": {}
      },
      "cell_type": "code",
      "source": [
        "l = [1,2,3,5]  # list can be created with  squre brackets\n",
        "\n",
        "t = (1,2,3,4) # tuples can be created with braces\n",
        "\n",
        "s = {1,2,3,4} # sets can be created with {}"
      ],
      "execution_count": 0,
      "outputs": []
    },
    {
      "metadata": {
        "id": "6j7Q_BYwxKJR",
        "colab_type": "code",
        "colab": {}
      },
      "cell_type": "code",
      "source": [
        "# sample_set[1] # sets doesn't support indexing "
      ],
      "execution_count": 0,
      "outputs": []
    },
    {
      "metadata": {
        "id": "uW7wo0QQxoNS",
        "colab_type": "code",
        "colab": {
          "base_uri": "https://localhost:8080/",
          "height": 153
        },
        "outputId": "c8edfe27-da5a-4c3d-9621-756f0f6374ce"
      },
      "cell_type": "code",
      "source": [
        "print(l)\n",
        "print(type(l))\n",
        "print(\"\")\n",
        "print(t)\n",
        "print(type(t))\n",
        "print(\"\")\n",
        "print(s)\n",
        "print(type(s))"
      ],
      "execution_count": 48,
      "outputs": [
        {
          "output_type": "stream",
          "text": [
            "[1, 2, 3, 5]\n",
            "<class 'list'>\n",
            "\n",
            "(1, 2, 3, 4)\n",
            "<class 'tuple'>\n",
            "\n",
            "{1, 2, 3, 4}\n",
            "<class 'set'>\n"
          ],
          "name": "stdout"
        }
      ]
    },
    {
      "metadata": {
        "id": "B77u2ikJyAI8",
        "colab_type": "code",
        "colab": {}
      },
      "cell_type": "code",
      "source": [
        "my_dict = {}"
      ],
      "execution_count": 0,
      "outputs": []
    },
    {
      "metadata": {
        "id": "veSlczHa015f",
        "colab_type": "code",
        "colab": {
          "base_uri": "https://localhost:8080/",
          "height": 34
        },
        "outputId": "d47ccc98-b813-41e4-dd62-0786ec5fc1e5"
      },
      "cell_type": "code",
      "source": [
        "type(my_dict)"
      ],
      "execution_count": 50,
      "outputs": [
        {
          "output_type": "execute_result",
          "data": {
            "text/plain": [
              "dict"
            ]
          },
          "metadata": {
            "tags": []
          },
          "execution_count": 50
        }
      ]
    },
    {
      "metadata": {
        "id": "g3F1zprQ04ZY",
        "colab_type": "code",
        "colab": {}
      },
      "cell_type": "code",
      "source": [
        "my_dict[\"name\"] = \"tom\"\n",
        "my_dict['location'] = \"CA\""
      ],
      "execution_count": 0,
      "outputs": []
    },
    {
      "metadata": {
        "id": "iwbDlCKp0-s7",
        "colab_type": "code",
        "colab": {
          "base_uri": "https://localhost:8080/",
          "height": 34
        },
        "outputId": "c973d23e-065f-4376-9fd6-7ae4c3dec2c1"
      },
      "cell_type": "code",
      "source": [
        "my_dict"
      ],
      "execution_count": 52,
      "outputs": [
        {
          "output_type": "execute_result",
          "data": {
            "text/plain": [
              "{'location': 'CA', 'name': 'tom'}"
            ]
          },
          "metadata": {
            "tags": []
          },
          "execution_count": 52
        }
      ]
    },
    {
      "metadata": {
        "id": "rt5UouIZ2Fdw",
        "colab_type": "code",
        "colab": {
          "base_uri": "https://localhost:8080/",
          "height": 34
        },
        "outputId": "85577b1a-5d98-44f8-97c8-c45ab8922288"
      },
      "cell_type": "code",
      "source": [
        "#printing value through key\n",
        "\n",
        "my_dict['name']"
      ],
      "execution_count": 53,
      "outputs": [
        {
          "output_type": "execute_result",
          "data": {
            "text/plain": [
              "'tom'"
            ]
          },
          "metadata": {
            "tags": []
          },
          "execution_count": 53
        }
      ]
    },
    {
      "metadata": {
        "id": "1RKB9BTv2NLH",
        "colab_type": "code",
        "colab": {
          "base_uri": "https://localhost:8080/",
          "height": 34
        },
        "outputId": "a86f0ee9-2cae-477b-a6f0-1f164d74dcfb"
      },
      "cell_type": "code",
      "source": [
        "# prining all the keys\n",
        "\n",
        "print(my_dict.keys())"
      ],
      "execution_count": 54,
      "outputs": [
        {
          "output_type": "stream",
          "text": [
            "dict_keys(['name', 'location'])\n"
          ],
          "name": "stdout"
        }
      ]
    },
    {
      "metadata": {
        "id": "ZoURJWA02aWv",
        "colab_type": "code",
        "colab": {
          "base_uri": "https://localhost:8080/",
          "height": 34
        },
        "outputId": "db342895-9084-44be-f77d-e6c0e2ef729f"
      },
      "cell_type": "code",
      "source": [
        "# priniting values\n",
        "\n",
        "print(my_dict.values())"
      ],
      "execution_count": 55,
      "outputs": [
        {
          "output_type": "stream",
          "text": [
            "dict_values(['tom', 'CA'])\n"
          ],
          "name": "stdout"
        }
      ]
    },
    {
      "metadata": {
        "id": "Zcepy_7V2hfG",
        "colab_type": "code",
        "colab": {
          "base_uri": "https://localhost:8080/",
          "height": 34
        },
        "outputId": "25881b88-728f-413e-fe26-8dc1ce300898"
      },
      "cell_type": "code",
      "source": [
        "# prinitng items in dict with key and value\n",
        "\n",
        "my_dict.items()"
      ],
      "execution_count": 56,
      "outputs": [
        {
          "output_type": "execute_result",
          "data": {
            "text/plain": [
              "dict_items([('name', 'tom'), ('location', 'CA')])"
            ]
          },
          "metadata": {
            "tags": []
          },
          "execution_count": 56
        }
      ]
    },
    {
      "metadata": {
        "id": "Efdn8mml2xsM",
        "colab_type": "code",
        "colab": {
          "base_uri": "https://localhost:8080/",
          "height": 51
        },
        "outputId": "795d9e15-8e49-4ba4-e78a-d6d26fd5d0f9"
      },
      "cell_type": "code",
      "source": [
        "#printing keys\n",
        "\n",
        "for key in my_dict.keys():\n",
        "  print(key)"
      ],
      "execution_count": 57,
      "outputs": [
        {
          "output_type": "stream",
          "text": [
            "name\n",
            "location\n"
          ],
          "name": "stdout"
        }
      ]
    },
    {
      "metadata": {
        "id": "ubO6KlV837q6",
        "colab_type": "code",
        "colab": {
          "base_uri": "https://localhost:8080/",
          "height": 51
        },
        "outputId": "dbe87a5d-9fc5-44f1-bf54-db9823b5a403"
      },
      "cell_type": "code",
      "source": [
        "# printing values\n",
        "\n",
        "for v in my_dict.values():\n",
        "  print(v)"
      ],
      "execution_count": 58,
      "outputs": [
        {
          "output_type": "stream",
          "text": [
            "tom\n",
            "CA\n"
          ],
          "name": "stdout"
        }
      ]
    },
    {
      "metadata": {
        "id": "vN0IweRJ4KwO",
        "colab_type": "code",
        "colab": {
          "base_uri": "https://localhost:8080/",
          "height": 51
        },
        "outputId": "2b3208c1-b85b-4020-be93-b8161c5e9832"
      },
      "cell_type": "code",
      "source": [
        "# printing key and vlaues\n",
        "\n",
        "for k in my_dict.keys():\n",
        "  print(k + \":\" , my_dict[k])"
      ],
      "execution_count": 59,
      "outputs": [
        {
          "output_type": "stream",
          "text": [
            "name: tom\n",
            "location: CA\n"
          ],
          "name": "stdout"
        }
      ]
    },
    {
      "metadata": {
        "id": "Q4bHN1264k8K",
        "colab_type": "code",
        "colab": {}
      },
      "cell_type": "code",
      "source": [
        ""
      ],
      "execution_count": 0,
      "outputs": []
    },
    {
      "metadata": {
        "id": "ZiOIvZqSaMLJ",
        "colab_type": "text"
      },
      "cell_type": "markdown",
      "source": [
        "# Math package "
      ]
    },
    {
      "metadata": {
        "id": "W8pF3tggaOjg",
        "colab_type": "code",
        "colab": {}
      },
      "cell_type": "code",
      "source": [
        "import math"
      ],
      "execution_count": 0,
      "outputs": []
    },
    {
      "metadata": {
        "id": "LW1C9swLaQu1",
        "colab_type": "code",
        "colab": {
          "base_uri": "https://localhost:8080/",
          "height": 935
        },
        "outputId": "38d26e1a-bc82-46ee-c159-a1dc94e0f322"
      },
      "cell_type": "code",
      "source": [
        "dir(math) # list of function in match package"
      ],
      "execution_count": 61,
      "outputs": [
        {
          "output_type": "execute_result",
          "data": {
            "text/plain": [
              "['__doc__',\n",
              " '__loader__',\n",
              " '__name__',\n",
              " '__package__',\n",
              " '__spec__',\n",
              " 'acos',\n",
              " 'acosh',\n",
              " 'asin',\n",
              " 'asinh',\n",
              " 'atan',\n",
              " 'atan2',\n",
              " 'atanh',\n",
              " 'ceil',\n",
              " 'copysign',\n",
              " 'cos',\n",
              " 'cosh',\n",
              " 'degrees',\n",
              " 'e',\n",
              " 'erf',\n",
              " 'erfc',\n",
              " 'exp',\n",
              " 'expm1',\n",
              " 'fabs',\n",
              " 'factorial',\n",
              " 'floor',\n",
              " 'fmod',\n",
              " 'frexp',\n",
              " 'fsum',\n",
              " 'gamma',\n",
              " 'gcd',\n",
              " 'hypot',\n",
              " 'inf',\n",
              " 'isclose',\n",
              " 'isfinite',\n",
              " 'isinf',\n",
              " 'isnan',\n",
              " 'ldexp',\n",
              " 'lgamma',\n",
              " 'log',\n",
              " 'log10',\n",
              " 'log1p',\n",
              " 'log2',\n",
              " 'modf',\n",
              " 'nan',\n",
              " 'pi',\n",
              " 'pow',\n",
              " 'radians',\n",
              " 'sin',\n",
              " 'sinh',\n",
              " 'sqrt',\n",
              " 'tan',\n",
              " 'tanh',\n",
              " 'tau',\n",
              " 'trunc']"
            ]
          },
          "metadata": {
            "tags": []
          },
          "execution_count": 61
        }
      ]
    },
    {
      "metadata": {
        "id": "5--VuZ9BaSn4",
        "colab_type": "code",
        "colab": {
          "base_uri": "https://localhost:8080/",
          "height": 34
        },
        "outputId": "c3563a40-cf97-410f-9abf-df18ca1fa515"
      },
      "cell_type": "code",
      "source": [
        "#square root\n",
        "\n",
        "print(math.sqrt(100))"
      ],
      "execution_count": 62,
      "outputs": [
        {
          "output_type": "stream",
          "text": [
            "10.0\n"
          ],
          "name": "stdout"
        }
      ]
    },
    {
      "metadata": {
        "id": "6_wkFQ5-r_g5",
        "colab_type": "code",
        "colab": {
          "base_uri": "https://localhost:8080/",
          "height": 34
        },
        "outputId": "eb01d9ef-da71-4f34-e2fc-c8a356bcf740"
      },
      "cell_type": "code",
      "source": [
        "math.pow(100,0.5)"
      ],
      "execution_count": 63,
      "outputs": [
        {
          "output_type": "execute_result",
          "data": {
            "text/plain": [
              "10.0"
            ]
          },
          "metadata": {
            "tags": []
          },
          "execution_count": 63
        }
      ]
    },
    {
      "metadata": {
        "id": "-dsq27vPsMlI",
        "colab_type": "code",
        "colab": {
          "base_uri": "https://localhost:8080/",
          "height": 34
        },
        "outputId": "1008ebfa-e952-44ca-d1ea-905edfc1eb06"
      },
      "cell_type": "code",
      "source": [
        "math.factorial(10)"
      ],
      "execution_count": 64,
      "outputs": [
        {
          "output_type": "execute_result",
          "data": {
            "text/plain": [
              "3628800"
            ]
          },
          "metadata": {
            "tags": []
          },
          "execution_count": 64
        }
      ]
    },
    {
      "metadata": {
        "id": "5CFEo7CDsjhx",
        "colab_type": "code",
        "colab": {
          "base_uri": "https://localhost:8080/",
          "height": 34
        },
        "outputId": "2e753556-af84-4f40-dc55-1b1ce8e3dfc8"
      },
      "cell_type": "code",
      "source": [
        "# finding factorial\n",
        "\n",
        "x = 10\n",
        "y =1\n",
        "for i in range(1,x):\n",
        "  y *= i\n",
        "print(\"factorial of\" ,x ,'is',y )"
      ],
      "execution_count": 65,
      "outputs": [
        {
          "output_type": "stream",
          "text": [
            "factorial of 10 is 362880\n"
          ],
          "name": "stdout"
        }
      ]
    },
    {
      "metadata": {
        "id": "lU0XjYZEs-ne",
        "colab_type": "code",
        "colab": {}
      },
      "cell_type": "code",
      "source": [
        "from math import factorial\n"
      ],
      "execution_count": 0,
      "outputs": []
    },
    {
      "metadata": {
        "id": "8q6f3Pmet5zB",
        "colab_type": "code",
        "colab": {
          "base_uri": "https://localhost:8080/",
          "height": 51
        },
        "outputId": "a1e483fb-04e3-43f5-a8c1-9ba06331f508"
      },
      "cell_type": "code",
      "source": [
        "%timeit factorial(10)"
      ],
      "execution_count": 67,
      "outputs": [
        {
          "output_type": "stream",
          "text": [
            "The slowest run took 19.83 times longer than the fastest. This could mean that an intermediate result is being cached.\n",
            "10000000 loops, best of 3: 75 ns per loop\n"
          ],
          "name": "stdout"
        }
      ]
    },
    {
      "metadata": {
        "id": "xfoMH2c4t7R4",
        "colab_type": "code",
        "colab": {
          "base_uri": "https://localhost:8080/",
          "height": 255
        },
        "outputId": "d157ba41-8e72-4d56-f47f-62d0782519e2"
      },
      "cell_type": "code",
      "source": [
        "for j in range(1,15):\n",
        "  y =1\n",
        "  for i in range(1,j):\n",
        "    y *= i\n",
        "  print(\"factorial of\" ,j ,'is', y )"
      ],
      "execution_count": 68,
      "outputs": [
        {
          "output_type": "stream",
          "text": [
            "factorial of 1 is 1\n",
            "factorial of 2 is 1\n",
            "factorial of 3 is 2\n",
            "factorial of 4 is 6\n",
            "factorial of 5 is 24\n",
            "factorial of 6 is 120\n",
            "factorial of 7 is 720\n",
            "factorial of 8 is 5040\n",
            "factorial of 9 is 40320\n",
            "factorial of 10 is 362880\n",
            "factorial of 11 is 3628800\n",
            "factorial of 12 is 39916800\n",
            "factorial of 13 is 479001600\n",
            "factorial of 14 is 6227020800\n"
          ],
          "name": "stdout"
        }
      ]
    },
    {
      "metadata": {
        "id": "CPLaNp3suQaV",
        "colab_type": "code",
        "colab": {}
      },
      "cell_type": "code",
      "source": [
        ""
      ],
      "execution_count": 0,
      "outputs": []
    }
  ]
}