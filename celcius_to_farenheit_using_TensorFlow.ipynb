{
  "nbformat": 4,
  "nbformat_minor": 0,
  "metadata": {
    "colab": {
      "name": "celcius to farenheit using TensorFlow.ipynb",
      "version": "0.3.2",
      "provenance": [],
      "include_colab_link": true
    },
    "kernelspec": {
      "name": "python3",
      "display_name": "Python 3"
    }
  },
  "cells": [
    {
      "cell_type": "markdown",
      "metadata": {
        "id": "view-in-github",
        "colab_type": "text"
      },
      "source": [
        "<a href=\"https://colab.research.google.com/github/abhisam/PadhAI_Notebooks/blob/master/celcius_to_farenheit_using_TensorFlow.ipynb\" target=\"_parent\"><img src=\"https://colab.research.google.com/assets/colab-badge.svg\" alt=\"Open In Colab\"/></a>"
      ]
    },
    {
      "metadata": {
        "id": "l7HOWWxQli1R",
        "colab_type": "code",
        "colab": {}
      },
      "cell_type": "code",
      "source": [
        "import tensorflow as tf\n",
        "tf.logging.set_verbosity(tf.logging.ERROR)\n",
        "import numpy as np"
      ],
      "execution_count": 0,
      "outputs": []
    },
    {
      "metadata": {
        "id": "VnpduFLHl7hT",
        "colab_type": "code",
        "colab": {}
      },
      "cell_type": "code",
      "source": [
        "c = np.array([-40,-10,0,8,15,22,38], dtype=float)\n",
        "f = np.array([-40, 14, 32, 46.4, 59, 71.6, 100.4], dtype=float)\n"
      ],
      "execution_count": 0,
      "outputs": []
    },
    {
      "metadata": {
        "id": "YI0DaT9omdpU",
        "colab_type": "code",
        "colab": {
          "base_uri": "https://localhost:8080/",
          "height": 136
        },
        "outputId": "4cf81752-6847-4e03-9df9-17db5dba4ce7"
      },
      "cell_type": "code",
      "source": [
        "for  i,j in enumerate(c):\n",
        "  print(j,\"degrees Celsius = \",f[i],\"degrees Fahrenheit\")\n",
        "  "
      ],
      "execution_count": 3,
      "outputs": [
        {
          "output_type": "stream",
          "text": [
            "-40.0 degrees Celsius =  -40.0 degrees Fahrenheit\n",
            "-10.0 degrees Celsius =  14.0 degrees Fahrenheit\n",
            "0.0 degrees Celsius =  32.0 degrees Fahrenheit\n",
            "8.0 degrees Celsius =  46.4 degrees Fahrenheit\n",
            "15.0 degrees Celsius =  59.0 degrees Fahrenheit\n",
            "22.0 degrees Celsius =  71.6 degrees Fahrenheit\n",
            "38.0 degrees Celsius =  100.4 degrees Fahrenheit\n"
          ],
          "name": "stdout"
        }
      ]
    },
    {
      "metadata": {
        "id": "ifsAcUdmoxmN",
        "colab_type": "text"
      },
      "cell_type": "markdown",
      "source": [
        "# Some Machine Learning terminology\n",
        "- Feature — The input(s) to our model. In this case, a single value — the degrees in Celsius.\n",
        "\n",
        "- Labels — The output our model predicts. In this case, a single value — the degrees in Fahrenheit.\n",
        "\n",
        "- Example — A pair of inputs/outputs used during training. In our case a pair of values from celsius_q and fahrenheit_a at a specific index, such as (22,72)."
      ]
    },
    {
      "metadata": {
        "id": "5z98RMGMpApa",
        "colab_type": "text"
      },
      "cell_type": "markdown",
      "source": [
        "# Build a layer\n",
        "\n",
        "We'll call the layer l0 and create it by instantiating tf.keras.layers.Dense with the following configuration:\n",
        "\n",
        "- input_shape=[1] — This specifies that the input to this layer is a single value. That is, the shape is a one-dimensional array with one member. Since this is the first (and only) layer, that input shape is the input shape of the entire model. The single value is a floating point number, representing degrees Celsius.\n",
        "\n",
        "- units=1 — This specifies the number of neurons in the layer. The number of neurons defines how many internal variables the layer has to try to learn how to solve the problem (more later). Since this is the final layer, it is also the size of the model's output — a single float value representing degrees Fahrenheit. (In a multi-layered network, the size and shape of the layer would need to match the input_shape of the next layer.)\n",
        "\n"
      ]
    },
    {
      "metadata": {
        "id": "59Tl7I7Ro424",
        "colab_type": "code",
        "colab": {}
      },
      "cell_type": "code",
      "source": [
        "l0 = tf.keras.layers.Dense(units=2, input_shape=[1])"
      ],
      "execution_count": 0,
      "outputs": []
    },
    {
      "metadata": {
        "id": "cvb0921Dta7N",
        "colab_type": "text"
      },
      "cell_type": "markdown",
      "source": [
        "# Assemble layers into the model\n",
        "\n",
        "Once layers are defined, they need to be assembled into a model. The Sequential model definition takes a list of layers as argument, specifying the calculation order from the input to the output.\n",
        "\n",
        "This model has just a single layer, l0.\n"
      ]
    },
    {
      "metadata": {
        "id": "ip8meY11tT5t",
        "colab_type": "code",
        "colab": {}
      },
      "cell_type": "code",
      "source": [
        "model = tf.keras.Sequential([l0])"
      ],
      "execution_count": 0,
      "outputs": []
    },
    {
      "metadata": {
        "id": "2D6ZhXH-t4L4",
        "colab_type": "code",
        "colab": {}
      },
      "cell_type": "code",
      "source": [
        "model = tf.keras.Sequential([tf.keras.layers.Dense(units=2, input_shape=[1])])"
      ],
      "execution_count": 0,
      "outputs": []
    },
    {
      "metadata": {
        "id": "vlGSbss4uWH2",
        "colab_type": "text"
      },
      "cell_type": "markdown",
      "source": [
        "# Compile the model, with loss and optimizer functions\n",
        "Before training, the model has to be compiled. When compiled for training, the model is given:\n",
        "\n",
        "Loss function — A way of measuring how far off predictions are from the desired outcome. (The measured difference is called the \"loss\".)\n",
        "\n",
        "Optimizer function — A way of adjusting internal values in order to reduce the loss.\n",
        "\n"
      ]
    },
    {
      "metadata": {
        "id": "VK9R9p1ruZZ9",
        "colab_type": "code",
        "colab": {}
      },
      "cell_type": "code",
      "source": [
        "model.compile(loss='mean_squared_error',\n",
        "              optimizer=tf.keras.optimizers.Adam(0.1))"
      ],
      "execution_count": 0,
      "outputs": []
    },
    {
      "metadata": {
        "id": "PiX88dAouK05",
        "colab_type": "text"
      },
      "cell_type": "markdown",
      "source": [
        "#Train the model\n",
        "Train the model by calling the fit method.\n",
        "\n",
        "During training, the model takes in Celsius values, performs a calculation using the current internal variables (called \"weights\") and outputs values which are meant to be the Fahrenheit equivalent. Since the weights are initially set randomly, the output will not be close to the correct value. The difference between the actual output and the desired output is calculated using the loss function, and the optimizer function directs how the weights should be adjusted.\n",
        "\n",
        "This cycle of calculate, compare, adjust is controlled by the fit method. The first argument is the inputs, the second argument is the desired outputs. The epochs argument specifies how many times this cycle should be run, and the verbose argument controls how much output the method produces."
      ]
    },
    {
      "metadata": {
        "id": "WmPWkRUMt7vQ",
        "colab_type": "code",
        "colab": {
          "base_uri": "https://localhost:8080/",
          "height": 34
        },
        "outputId": "4ba4f147-3e64-4076-ac9c-79588adc0b3f"
      },
      "cell_type": "code",
      "source": [
        "history = model.fit(c, f, epochs=500, verbose=False)\n",
        "print(\"Finished training the model\")"
      ],
      "execution_count": 8,
      "outputs": [
        {
          "output_type": "stream",
          "text": [
            "Finished training the model\n"
          ],
          "name": "stdout"
        }
      ]
    },
    {
      "metadata": {
        "id": "7mCg5dGuuiaF",
        "colab_type": "text"
      },
      "cell_type": "markdown",
      "source": [
        "## Display training statistics"
      ]
    },
    {
      "metadata": {
        "id": "_fTgWuwuuONZ",
        "colab_type": "code",
        "colab": {
          "base_uri": "https://localhost:8080/",
          "height": 378
        },
        "outputId": "d04d2a32-5329-4ada-bf8c-54357ed4196f"
      },
      "cell_type": "code",
      "source": [
        "import matplotlib.pyplot as plt\n",
        "plt.xlabel('Epoch Number')\n",
        "plt.ylabel(\"Loss Magnitude\")\n",
        "plt.plot(history.history['loss'])"
      ],
      "execution_count": 9,
      "outputs": [
        {
          "output_type": "execute_result",
          "data": {
            "text/plain": [
              "[<matplotlib.lines.Line2D at 0x7f68585c9908>]"
            ]
          },
          "metadata": {
            "tags": []
          },
          "execution_count": 9
        },
        {
          "output_type": "display_data",
          "data": {
            "image/png": "[encoded data removed]",
            "text/plain": [
              "<Figure size 576x396 with 1 Axes>"
            ]
          },
          "metadata": {
            "tags": []
          }
        }
      ]
    },
    {
      "metadata": {
        "id": "nc1eo2WRukUC",
        "colab_type": "code",
        "colab": {
          "base_uri": "https://localhost:8080/",
          "height": 34
        },
        "outputId": "5ec6b7ad-5141-42b6-fde4-10cafdd84c1a"
      },
      "cell_type": "code",
      "source": [
        "# Use the model to predict values\n",
        "\n",
        "print(model.predict([100.0]))"
      ],
      "execution_count": 10,
      "outputs": [
        {
          "output_type": "stream",
          "text": [
            "[[211.5558  211.57008]]\n"
          ],
          "name": "stdout"
        }
      ]
    },
    {
      "metadata": {
        "id": "WW39YEe5wk0d",
        "colab_type": "code",
        "colab": {
          "base_uri": "https://localhost:8080/",
          "height": 34
        },
        "outputId": "3e35c299-16d2-4228-ef57-533767b7aa83"
      },
      "cell_type": "code",
      "source": [
        "print(model.predict([110.0]))"
      ],
      "execution_count": 11,
      "outputs": [
        {
          "output_type": "stream",
          "text": [
            "[[229.8264  229.82207]]\n"
          ],
          "name": "stdout"
        }
      ]
    },
    {
      "metadata": {
        "id": "5-4PkWtAunEK",
        "colab_type": "code",
        "colab": {
          "base_uri": "https://localhost:8080/",
          "height": 34
        },
        "outputId": "e14e875a-20d6-48ab-f714-4b18a05021fa"
      },
      "cell_type": "code",
      "source": [
        "# internal variables of the Dense layer.\n",
        "print(\"These are the layer variables: {}\".format(l0.get_weights()))"
      ],
      "execution_count": 12,
      "outputs": [
        {
          "output_type": "stream",
          "text": [
            "These are the layer variables: [array([[0.9810113, 0.9633633]], dtype=float32), array([0., 0.], dtype=float32)]\n"
          ],
          "name": "stdout"
        }
      ]
    },
    {
      "metadata": {
        "id": "PmFOcPEyw-a2",
        "colab_type": "text"
      },
      "cell_type": "markdown",
      "source": [
        "# A little experiment"
      ]
    },
    {
      "metadata": {
        "id": "0M6EHqCnuzGS",
        "colab_type": "code",
        "colab": {
          "base_uri": "https://localhost:8080/",
          "height": 255
        },
        "outputId": "55039d12-2889-4e8f-8872-e3e6022d210b"
      },
      "cell_type": "code",
      "source": [
        "l0 = tf.keras.layers.Dense(units=4, input_shape=[1])  \n",
        "l1 = tf.keras.layers.Dense(units=4)  \n",
        "l2 = tf.keras.layers.Dense(units=1)  \n",
        "model = tf.keras.Sequential([l0, l1, l2])\n",
        "model.compile(loss='mean_squared_error', optimizer=tf.keras.optimizers.Adam(0.1))\n",
        "model.fit(c, f, epochs=500, verbose=False)\n",
        "print(\"Finished training the model\")\n",
        "print(model.predict([100.0]))\n",
        "print(\"Model predicts that 100 degrees Celsius is: {} degrees Fahrenheit\".format(model.predict([100.0])))\n",
        "print(\"These are the l0 variables: {}\".format(l0.get_weights()))\n",
        "print(\"These are the l1 variables: {}\".format(l1.get_weights()))\n",
        "print(\"These are the l2 variables: {}\".format(l2.get_weights()))"
      ],
      "execution_count": 13,
      "outputs": [
        {
          "output_type": "stream",
          "text": [
            "Finished training the model\n",
            "[[211.99997]]\n",
            "Model predicts that 100 degrees Celsius is: [[211.99997]] degrees Fahrenheit\n",
            "These are the l0 variables: [array([[ 0.31939438, -0.43621472,  0.14585403, -0.44617975]],\n",
            "      dtype=float32), array([ 3.5492337, -3.5531306, -2.5259612, -3.441279 ], dtype=float32)]\n",
            "These are the l1 variables: [array([[ 1.239791  ,  0.82862717,  0.54535246, -0.17376396],\n",
            "       [-1.0826296 , -0.8082359 , -0.12355332,  0.4971019 ],\n",
            "       [-0.59524804, -0.99841756,  0.02104061, -0.06912041],\n",
            "       [-0.5827749 , -0.48288158, -0.59292203,  0.7055254 ]],\n",
            "      dtype=float32), array([ 3.596276 ,  3.6272998,  2.8738167, -1.2386303], dtype=float32)]\n",
            "These are the l2 variables: [array([[ 0.89804924],\n",
            "       [ 0.8039244 ],\n",
            "       [ 0.37944597],\n",
            "       [-0.2081389 ]], dtype=float32), array([3.291999], dtype=float32)]\n"
          ],
          "name": "stdout"
        }
      ]
    }
  ]
}